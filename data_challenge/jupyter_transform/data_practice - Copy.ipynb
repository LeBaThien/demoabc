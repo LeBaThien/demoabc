{
 "cells": [
  {
   "cell_type": "code",
   "execution_count": 2,
   "id": "349332b2",
   "metadata": {},
   "outputs": [
    {
     "ename": "TypeError",
     "evalue": "open() missing required argument 'file' (pos 1)",
     "output_type": "error",
     "traceback": [
      "\u001b[1;31m---------------------------------------------------------------------------\u001b[0m",
      "\u001b[1;31mTypeError\u001b[0m                                 Traceback (most recent call last)",
      "\u001b[1;32m~\\AppData\\Local\\Temp/ipykernel_4740/3767913481.py\u001b[0m in \u001b[0;36m<module>\u001b[1;34m\u001b[0m\n\u001b[1;32m----> 1\u001b[1;33m \u001b[0mopen\u001b[0m\u001b[1;33m(\u001b[0m\u001b[1;33m)\u001b[0m\u001b[1;33m\u001b[0m\u001b[1;33m\u001b[0m\u001b[0m\n\u001b[0m\u001b[0;32m      2\u001b[0m \u001b[0mfile_object\u001b[0m \u001b[1;33m=\u001b[0m \u001b[0mopen\u001b[0m\u001b[1;33m(\u001b[0m\u001b[1;34m\"month1.csv\"\u001b[0m\u001b[1;33m)\u001b[0m\u001b[1;33m\u001b[0m\u001b[1;33m\u001b[0m\u001b[0m\n",
      "\u001b[1;31mTypeError\u001b[0m: open() missing required argument 'file' (pos 1)"
     ]
    }
   ],
   "source": [
    "open()\n",
    "file_object = open(\"month1.csv\") "
   ]
  },
  {
   "cell_type": "code",
   "execution_count": null,
   "id": "e92e8256",
   "metadata": {},
   "outputs": [],
   "source": [
    "file_object = open(\"month1.csv\")\n",
    "data = file_object.read()\n",
    "print(data)"
   ]
  },
  {
   "cell_type": "code",
   "execution_count": null,
   "id": "7913df20",
   "metadata": {},
   "outputs": [],
   "source": []
  },
  {
   "cell_type": "code",
   "execution_count": null,
   "id": "11a19ccc",
   "metadata": {
    "scrolled": true
   },
   "outputs": [],
   "source": [
    "import pandas as pd\n",
    "import numpy as np\n",
    "pd.__version__\n"
   ]
  },
  {
   "cell_type": "code",
   "execution_count": null,
   "id": "247b82eb",
   "metadata": {},
   "outputs": [],
   "source": [
    "# read data into DF\n",
    "\n",
    "data_month1 = pd.read_csv(\"month1.csv\")\n",
    "print(data_month1)"
   ]
  },
  {
   "cell_type": "code",
   "execution_count": null,
   "id": "2078bc61",
   "metadata": {},
   "outputs": [],
   "source": [
    "# Read information data\n",
    "data_month1.info()"
   ]
  },
  {
   "cell_type": "code",
   "execution_count": null,
   "id": "690c88e1",
   "metadata": {},
   "outputs": [],
   "source": [
    "data_month1"
   ]
  },
  {
   "cell_type": "code",
   "execution_count": null,
   "id": "07d34a02",
   "metadata": {},
   "outputs": [],
   "source": [
    "# lấy data theo 1 or nhiều column\n",
    "data_month1[['device_id', 'heartrate']]"
   ]
  },
  {
   "cell_type": "code",
   "execution_count": null,
   "id": "56fcc3ef",
   "metadata": {},
   "outputs": [],
   "source": [
    "# Lấy theo dòng\n",
    "# Lấy 5 bản ghi đầu\n",
    "data_month1.head(5)\n",
    "\n",
    "# Lấy 5 bản ghi cuối\n",
    "data_month1.tail(5)\n",
    "\n",
    "# Lấy bản ghi từ x tới y\n",
    "data_month1[2:5]\n",
    "\n",
    "# Lấy theo điều kiện, ex: device_id = 2\n",
    "data_month1[(data_month1['device_id'] == 2) & (data_month1['name'] == 'Sam Knopp')]"
   ]
  },
  {
   "cell_type": "code",
   "execution_count": null,
   "id": "42dd772e",
   "metadata": {},
   "outputs": [],
   "source": [
    "# muốn gắn cái Data frame vừa rồi vào một dataframe khác\n",
    "data_device2 = data_month1[data_month1['device_id'] == 2]\n",
    "\n",
    "data_device2\n",
    "\n",
    "# lưu cái device_id 2 vào một tệp riêng\n",
    "\n",
    "data_device2.to_csv('device2.csv')\n",
    "\n"
   ]
  },
  {
   "cell_type": "code",
   "execution_count": null,
   "id": "db81cd9c",
   "metadata": {},
   "outputs": [],
   "source": []
  },
  {
   "cell_type": "code",
   "execution_count": null,
   "id": "495e3560",
   "metadata": {},
   "outputs": [],
   "source": [
    "# Thêm một cột id \n",
    "# data_month1.insert(0, 'ID', range(0, len(data_month)))\n",
    "data_month1\n"
   ]
  },
  {
   "cell_type": "code",
   "execution_count": null,
   "id": "01efc310",
   "metadata": {},
   "outputs": [],
   "source": [
    "# Review the data and analyse it. \n",
    "# What’s the format of data? \n",
    "# List out columns present in data along with their data type"
   ]
  },
  {
   "cell_type": "code",
   "execution_count": 3,
   "id": "ed06059e",
   "metadata": {},
   "outputs": [
    {
     "ename": "NameError",
     "evalue": "name 'data_month1' is not defined",
     "output_type": "error",
     "traceback": [
      "\u001b[1;31m---------------------------------------------------------------------------\u001b[0m",
      "\u001b[1;31mNameError\u001b[0m                                 Traceback (most recent call last)",
      "\u001b[1;32m~\\AppData\\Local\\Temp/ipykernel_4740/2326283667.py\u001b[0m in \u001b[0;36m<module>\u001b[1;34m\u001b[0m\n\u001b[0;32m      1\u001b[0m \u001b[1;31m# Sẽ chuyển đối cái time này thành các yếu cầu\u001b[0m\u001b[1;33m\u001b[0m\u001b[1;33m\u001b[0m\u001b[0m\n\u001b[0;32m      2\u001b[0m \u001b[1;31m# sắp xếp theo heart rate\u001b[0m\u001b[1;33m\u001b[0m\u001b[1;33m\u001b[0m\u001b[0m\n\u001b[1;32m----> 3\u001b[1;33m \u001b[0mdata_month1\u001b[0m\u001b[1;33m.\u001b[0m\u001b[0msort_values\u001b[0m\u001b[1;33m(\u001b[0m\u001b[0mby\u001b[0m \u001b[1;33m=\u001b[0m \u001b[1;33m[\u001b[0m\u001b[1;34m'heartrate'\u001b[0m\u001b[1;33m]\u001b[0m\u001b[1;33m)\u001b[0m\u001b[1;33m\u001b[0m\u001b[1;33m\u001b[0m\u001b[0m\n\u001b[0m\u001b[0;32m      4\u001b[0m \u001b[1;31m# xóa hàng, dùng drop(index = [hàng muốn xóa])\u001b[0m\u001b[1;33m\u001b[0m\u001b[1;33m\u001b[0m\u001b[0m\n\u001b[0;32m      5\u001b[0m \u001b[1;31m# xóa hàng, dùng drop(index = [hàng muốn xóa], ascending=False) => để sắp xếp giảm dần\u001b[0m\u001b[1;33m\u001b[0m\u001b[1;33m\u001b[0m\u001b[0m\n",
      "\u001b[1;31mNameError\u001b[0m: name 'data_month1' is not defined"
     ]
    }
   ],
   "source": [
    "# Sẽ chuyển đối cái time này thành các yếu cầu\n",
    "# sắp xếp theo heart rate\n",
    "data_month1.sort_values(by = ['heartrate'])\n",
    "# xóa hàng, dùng drop(index = [hàng muốn xóa])\n",
    "# xóa hàng, dùng drop(index = [hàng muốn xóa], ascending=False) => để sắp xếp giảm dần\n",
    "\n",
    "# describe() => mô tả các chỉ số cơ bản của dataframe\n",
    "data_month1.describe()\n"
   ]
  },
  {
   "cell_type": "code",
   "execution_count": null,
   "id": "310f3581",
   "metadata": {},
   "outputs": [],
   "source": []
  }
 ],
 "metadata": {
  "kernelspec": {
   "display_name": "Python 3 (ipykernel)",
   "language": "python",
   "name": "python3"
  },
  "language_info": {
   "codemirror_mode": {
    "name": "ipython",
    "version": 3
   },
   "file_extension": ".py",
   "mimetype": "text/x-python",
   "name": "python",
   "nbconvert_exporter": "python",
   "pygments_lexer": "ipython3",
   "version": "3.9.7"
  }
 },
 "nbformat": 4,
 "nbformat_minor": 5
}
