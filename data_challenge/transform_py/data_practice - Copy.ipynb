{
 "cells": [
  {
   "cell_type": "code",
   "execution_count": 21,
   "id": "349332b2",
   "metadata": {},
   "outputs": [
    {
     "ename": "TypeError",
     "evalue": "open() missing required argument 'file' (pos 1)",
     "output_type": "error",
     "traceback": [
      "\u001b[1;31m---------------------------------------------------------------------------\u001b[0m",
      "\u001b[1;31mTypeError\u001b[0m                                 Traceback (most recent call last)",
      "\u001b[1;32m~\\AppData\\Local\\Temp/ipykernel_19600/3767913481.py\u001b[0m in \u001b[0;36m<module>\u001b[1;34m\u001b[0m\n\u001b[1;32m----> 1\u001b[1;33m \u001b[0mopen\u001b[0m\u001b[1;33m(\u001b[0m\u001b[1;33m)\u001b[0m\u001b[1;33m\u001b[0m\u001b[1;33m\u001b[0m\u001b[0m\n\u001b[0m\u001b[0;32m      2\u001b[0m \u001b[0mfile_object\u001b[0m \u001b[1;33m=\u001b[0m \u001b[0mopen\u001b[0m\u001b[1;33m(\u001b[0m\u001b[1;34m\"month1.csv\"\u001b[0m\u001b[1;33m)\u001b[0m\u001b[1;33m\u001b[0m\u001b[1;33m\u001b[0m\u001b[0m\n",
      "\u001b[1;31mTypeError\u001b[0m: open() missing required argument 'file' (pos 1)"
     ]
    }
   ],
   "source": [
    "open()\n",
    "file_object = open(\"month1.csv\") "
   ]
  },
  {
   "cell_type": "code",
   "execution_count": null,
   "id": "e92e8256",
   "metadata": {},
   "outputs": [],
   "source": [
    "file_object = open(\"month1.csv\")\n",
    "data = file_object.read()\n",
    "print(data)"
   ]
  },
  {
   "cell_type": "code",
   "execution_count": null,
   "id": "7913df20",
   "metadata": {},
   "outputs": [],
   "source": []
  },
  {
   "cell_type": "code",
   "execution_count": null,
   "id": "11a19ccc",
   "metadata": {
    "scrolled": true
   },
   "outputs": [],
   "source": [
    "import pandas as pd\n",
    "import numpy as np\n",
    "pd.__version__\n"
   ]
  },
  {
   "cell_type": "code",
   "execution_count": null,
   "id": "247b82eb",
   "metadata": {},
   "outputs": [],
   "source": [
    "# read data into DF\n",
    "\n",
    "data_month1 = pd.read_csv(\"month1.csv\")\n",
    "print(data_month1)"
   ]
  },
  {
   "cell_type": "code",
   "execution_count": null,
   "id": "2078bc61",
   "metadata": {},
   "outputs": [],
   "source": [
    "# Read information data\n",
    "data_month1.info()"
   ]
  },
  {
   "cell_type": "code",
   "execution_count": null,
   "id": "690c88e1",
   "metadata": {},
   "outputs": [],
   "source": [
    "data_month1"
   ]
  },
  {
   "cell_type": "code",
   "execution_count": null,
   "id": "07d34a02",
   "metadata": {},
   "outputs": [],
   "source": [
    "# lấy data theo 1 or nhiều column\n",
    "data_month1[['device_id', 'heartrate']]"
   ]
  },
  {
   "cell_type": "code",
   "execution_count": null,
   "id": "56fcc3ef",
   "metadata": {},
   "outputs": [],
   "source": [
    "# Lấy theo dòng\n",
    "# Lấy 5 bản ghi đầu\n",
    "data_month1.head(5)\n",
    "\n",
    "# Lấy 5 bản ghi cuối\n",
    "data_month1.tail(5)\n",
    "\n",
    "# Lấy bản ghi từ x tới y\n",
    "data_month1[2:5]\n",
    "\n",
    "# Lấy theo điều kiện, ex: device_id = 2\n",
    "data_month1[(data_month1['device_id'] == 2) & (data_month1['name'] == 'Sam Knopp')]"
   ]
  },
  {
   "cell_type": "code",
   "execution_count": null,
   "id": "42dd772e",
   "metadata": {},
   "outputs": [],
   "source": [
    "# muốn gắn cái Data frame vừa rồi vào một dataframe khác\n",
    "data_device2 = data_month1[data_month1['device_id'] == 2]\n",
    "\n",
    "data_device2\n",
    "\n",
    "# lưu cái device_id 2 vào một tệp riêng\n",
    "\n",
    "data_device2.to_csv('device2.csv')\n",
    "\n"
   ]
  },
  {
   "cell_type": "code",
   "execution_count": null,
   "id": "db81cd9c",
   "metadata": {},
   "outputs": [],
   "source": []
  },
  {
   "cell_type": "code",
   "execution_count": 25,
   "id": "495e3560",
   "metadata": {},
   "outputs": [
    {
     "data": {
      "text/html": [
       "<div>\n",
       "<style scoped>\n",
       "    .dataframe tbody tr th:only-of-type {\n",
       "        vertical-align: middle;\n",
       "    }\n",
       "\n",
       "    .dataframe tbody tr th {\n",
       "        vertical-align: top;\n",
       "    }\n",
       "\n",
       "    .dataframe thead th {\n",
       "        text-align: right;\n",
       "    }\n",
       "</style>\n",
       "<table border=\"1\" class=\"dataframe\">\n",
       "  <thead>\n",
       "    <tr style=\"text-align: right;\">\n",
       "      <th></th>\n",
       "      <th>ID</th>\n",
       "      <th>time</th>\n",
       "      <th>name</th>\n",
       "      <th>device_id</th>\n",
       "      <th>heartrate</th>\n",
       "    </tr>\n",
       "  </thead>\n",
       "  <tbody>\n",
       "    <tr>\n",
       "      <th>0</th>\n",
       "      <td>0</td>\n",
       "      <td>1577836800</td>\n",
       "      <td>Deborah Powell</td>\n",
       "      <td>0</td>\n",
       "      <td>52.813907</td>\n",
       "    </tr>\n",
       "    <tr>\n",
       "      <th>1</th>\n",
       "      <td>1</td>\n",
       "      <td>1577840400</td>\n",
       "      <td>Deborah Powell</td>\n",
       "      <td>0</td>\n",
       "      <td>53.907890</td>\n",
       "    </tr>\n",
       "    <tr>\n",
       "      <th>2</th>\n",
       "      <td>2</td>\n",
       "      <td>1577844000</td>\n",
       "      <td>Deborah Powell</td>\n",
       "      <td>0</td>\n",
       "      <td>52.712959</td>\n",
       "    </tr>\n",
       "    <tr>\n",
       "      <th>3</th>\n",
       "      <td>3</td>\n",
       "      <td>1577847600</td>\n",
       "      <td>Deborah Powell</td>\n",
       "      <td>0</td>\n",
       "      <td>52.288042</td>\n",
       "    </tr>\n",
       "    <tr>\n",
       "      <th>4</th>\n",
       "      <td>4</td>\n",
       "      <td>1577851200</td>\n",
       "      <td>Deborah Powell</td>\n",
       "      <td>0</td>\n",
       "      <td>52.515610</td>\n",
       "    </tr>\n",
       "    <tr>\n",
       "      <th>...</th>\n",
       "      <td>...</td>\n",
       "      <td>...</td>\n",
       "      <td>...</td>\n",
       "      <td>...</td>\n",
       "      <td>...</td>\n",
       "    </tr>\n",
       "    <tr>\n",
       "      <th>3787</th>\n",
       "      <td>3787</td>\n",
       "      <td>1583002800</td>\n",
       "      <td>James Hou</td>\n",
       "      <td>4</td>\n",
       "      <td>98.650932</td>\n",
       "    </tr>\n",
       "    <tr>\n",
       "      <th>3788</th>\n",
       "      <td>3788</td>\n",
       "      <td>1583006400</td>\n",
       "      <td>James Hou</td>\n",
       "      <td>4</td>\n",
       "      <td>98.767708</td>\n",
       "    </tr>\n",
       "    <tr>\n",
       "      <th>3789</th>\n",
       "      <td>3789</td>\n",
       "      <td>1583010000</td>\n",
       "      <td>James Hou</td>\n",
       "      <td>4</td>\n",
       "      <td>98.894941</td>\n",
       "    </tr>\n",
       "    <tr>\n",
       "      <th>3790</th>\n",
       "      <td>3790</td>\n",
       "      <td>1583013600</td>\n",
       "      <td>James Hou</td>\n",
       "      <td>4</td>\n",
       "      <td>96.512310</td>\n",
       "    </tr>\n",
       "    <tr>\n",
       "      <th>3791</th>\n",
       "      <td>3791</td>\n",
       "      <td>1583017200</td>\n",
       "      <td>James Hou</td>\n",
       "      <td>4</td>\n",
       "      <td>57.457069</td>\n",
       "    </tr>\n",
       "  </tbody>\n",
       "</table>\n",
       "<p>3792 rows × 5 columns</p>\n",
       "</div>"
      ],
      "text/plain": [
       "        ID        time            name  device_id  heartrate\n",
       "0        0  1577836800  Deborah Powell          0  52.813907\n",
       "1        1  1577840400  Deborah Powell          0  53.907890\n",
       "2        2  1577844000  Deborah Powell          0  52.712959\n",
       "3        3  1577847600  Deborah Powell          0  52.288042\n",
       "4        4  1577851200  Deborah Powell          0  52.515610\n",
       "...    ...         ...             ...        ...        ...\n",
       "3787  3787  1583002800       James Hou          4  98.650932\n",
       "3788  3788  1583006400       James Hou          4  98.767708\n",
       "3789  3789  1583010000       James Hou          4  98.894941\n",
       "3790  3790  1583013600       James Hou          4  96.512310\n",
       "3791  3791  1583017200       James Hou          4  57.457069\n",
       "\n",
       "[3792 rows x 5 columns]"
      ]
     },
     "execution_count": 25,
     "metadata": {},
     "output_type": "execute_result"
    }
   ],
   "source": [
    "# Thêm một cột id \n",
    "# data_month1.insert(0, 'ID', range(0, len(data_month)))\n",
    "data_month1\n"
   ]
  },
  {
   "cell_type": "code",
   "execution_count": null,
   "id": "01efc310",
   "metadata": {},
   "outputs": [],
   "source": [
    "# Review the data and analyse it. \n",
    "# What’s the format of data? \n",
    "# List out columns present in data along with their data type"
   ]
  },
  {
   "cell_type": "code",
   "execution_count": 31,
   "id": "ed06059e",
   "metadata": {},
   "outputs": [
    {
     "data": {
      "text/html": [
       "<div>\n",
       "<style scoped>\n",
       "    .dataframe tbody tr th:only-of-type {\n",
       "        vertical-align: middle;\n",
       "    }\n",
       "\n",
       "    .dataframe tbody tr th {\n",
       "        vertical-align: top;\n",
       "    }\n",
       "\n",
       "    .dataframe thead th {\n",
       "        text-align: right;\n",
       "    }\n",
       "</style>\n",
       "<table border=\"1\" class=\"dataframe\">\n",
       "  <thead>\n",
       "    <tr style=\"text-align: right;\">\n",
       "      <th></th>\n",
       "      <th>ID</th>\n",
       "      <th>time</th>\n",
       "      <th>device_id</th>\n",
       "      <th>heartrate</th>\n",
       "    </tr>\n",
       "  </thead>\n",
       "  <tbody>\n",
       "    <tr>\n",
       "      <th>count</th>\n",
       "      <td>3792.000000</td>\n",
       "      <td>3.792000e+03</td>\n",
       "      <td>3792.000000</td>\n",
       "      <td>3792.000000</td>\n",
       "    </tr>\n",
       "    <tr>\n",
       "      <th>mean</th>\n",
       "      <td>1895.500000</td>\n",
       "      <td>1.579245e+09</td>\n",
       "      <td>2.037975</td>\n",
       "      <td>80.934083</td>\n",
       "    </tr>\n",
       "    <tr>\n",
       "      <th>std</th>\n",
       "      <td>1094.800438</td>\n",
       "      <td>9.186383e+05</td>\n",
       "      <td>1.427260</td>\n",
       "      <td>32.136823</td>\n",
       "    </tr>\n",
       "    <tr>\n",
       "      <th>min</th>\n",
       "      <td>0.000000</td>\n",
       "      <td>1.577837e+09</td>\n",
       "      <td>0.000000</td>\n",
       "      <td>-221.991374</td>\n",
       "    </tr>\n",
       "    <tr>\n",
       "      <th>25%</th>\n",
       "      <td>947.750000</td>\n",
       "      <td>1.578517e+09</td>\n",
       "      <td>1.000000</td>\n",
       "      <td>58.684736</td>\n",
       "    </tr>\n",
       "    <tr>\n",
       "      <th>50%</th>\n",
       "      <td>1895.500000</td>\n",
       "      <td>1.579201e+09</td>\n",
       "      <td>2.000000</td>\n",
       "      <td>86.415107</td>\n",
       "    </tr>\n",
       "    <tr>\n",
       "      <th>75%</th>\n",
       "      <td>2843.250000</td>\n",
       "      <td>1.579882e+09</td>\n",
       "      <td>3.000000</td>\n",
       "      <td>97.666333</td>\n",
       "    </tr>\n",
       "    <tr>\n",
       "      <th>max</th>\n",
       "      <td>3791.000000</td>\n",
       "      <td>1.583017e+09</td>\n",
       "      <td>4.000000</td>\n",
       "      <td>186.479083</td>\n",
       "    </tr>\n",
       "  </tbody>\n",
       "</table>\n",
       "</div>"
      ],
      "text/plain": [
       "                ID          time    device_id    heartrate\n",
       "count  3792.000000  3.792000e+03  3792.000000  3792.000000\n",
       "mean   1895.500000  1.579245e+09     2.037975    80.934083\n",
       "std    1094.800438  9.186383e+05     1.427260    32.136823\n",
       "min       0.000000  1.577837e+09     0.000000  -221.991374\n",
       "25%     947.750000  1.578517e+09     1.000000    58.684736\n",
       "50%    1895.500000  1.579201e+09     2.000000    86.415107\n",
       "75%    2843.250000  1.579882e+09     3.000000    97.666333\n",
       "max    3791.000000  1.583017e+09     4.000000   186.479083"
      ]
     },
     "execution_count": 31,
     "metadata": {},
     "output_type": "execute_result"
    }
   ],
   "source": [
    "# Sẽ chuyển đối cái time này thành các yếu cầu\n",
    "# sắp xếp theo heart rate\n",
    "data_month1.sort_values(by = ['heartrate'])\n",
    "# xóa hàng, dùng drop(index = [hàng muốn xóa])\n",
    "# xóa hàng, dùng drop(index = [hàng muốn xóa], ascending=False) => để sắp xếp giảm dần\n",
    "\n",
    "# describe() => mô tả các chỉ số cơ bản của dataframe\n",
    "data_month1.describe()\n"
   ]
  }
 ],
 "metadata": {
  "kernelspec": {
   "display_name": "Python 3 (ipykernel)",
   "language": "python",
   "name": "python3"
  },
  "language_info": {
   "codemirror_mode": {
    "name": "ipython",
    "version": 3
   },
   "file_extension": ".py",
   "mimetype": "text/x-python",
   "name": "python",
   "nbconvert_exporter": "python",
   "pygments_lexer": "ipython3",
   "version": "3.9.7"
  }
 },
 "nbformat": 4,
 "nbformat_minor": 5
}
